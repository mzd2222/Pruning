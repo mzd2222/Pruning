{
 "cells": [
  {
   "cell_type": "code",
   "execution_count": null,
   "metadata": {
    "collapsed": true
   },
   "outputs": [],
   "source": [
    "import torch\n",
    "\n",
    "a = torch.randn([64, 3, 32, 32])\n",
    "\n",
    "print(a[0].size())\n",
    "b = a[0].sum(dim=0)\n",
    "print(b.size())"
   ]
  },
  {
   "cell_type": "code",
   "execution_count": 7,
   "outputs": [
    {
     "name": "stdout",
     "output_type": "stream",
     "text": [
      "Files already downloaded and verified\n"
     ]
    }
   ],
   "source": [
    "import torch\n",
    "import torchvision\n",
    "from torch import nn\n",
    "from torch import optim\n",
    "from torch import functional as F\n",
    "from torch.utils import data as Data\n",
    "\n",
    "train_data = Data.DataLoader(\n",
    "    torchvision.datasets.CIFAR10(\"./data\", train=True, download=True,\n",
    "                                 transform=torchvision.transforms.Compose([\n",
    "                                     torchvision.transforms.ToTensor(),\n",
    "                                 ]))\n",
    "                                ,batch_size=32, shuffle=True)\n",
    "\n",
    "\n",
    "class Net(nn.Module):\n",
    "\n",
    "    def __init__(self):\n",
    "        super(Net, self).__init__()\n",
    "\n",
    "        self.feature = nn.Sequential(\n",
    "            nn.Conv2d(3, 64, 3, 1, 1),\n",
    "            nn.BatchNorm2d(64),\n",
    "            nn.ReLU(),\n",
    "            nn.MaxPool2d(2),\n",
    "            nn.Conv2d(64, 128, 3, 1, 1),\n",
    "            nn.BatchNorm2d(128),\n",
    "            nn.ReLU(),\n",
    "            nn.MaxPool2d(2)\n",
    "        )\n",
    "\n",
    "        self.linear = nn.Linear(8192, 10)\n",
    "\n",
    "    def forward(self, x):\n",
    "\n",
    "        x = self.feature(x)\n",
    "\n",
    "        x = torch.flatten(x, start_dim=1)\n",
    "\n",
    "        x = self.linear(x)\n",
    "\n",
    "        return x\n",
    "\n",
    "\n",
    "    def activation_hook(self, model, input, output):\n",
    "        print(\"`````hooker working```````\")\n",
    "        print(model)\n",
    "        print(\"input.size: \", input[0].size())\n",
    "        print(\"output.size: \", output.size())\n",
    "\n"
   ],
   "metadata": {
    "collapsed": false,
    "pycharm": {
     "name": "#%%\n"
    }
   }
  },
  {
   "cell_type": "code",
   "execution_count": 12,
   "outputs": [
    {
     "name": "stdout",
     "output_type": "stream",
     "text": [
      "`````hooker working```````\n",
      "Net(\n",
      "  (feature): Sequential(\n",
      "    (0): Conv2d(3, 64, kernel_size=(3, 3), stride=(1, 1), padding=(1, 1))\n",
      "    (1): BatchNorm2d(64, eps=1e-05, momentum=0.1, affine=True, track_running_stats=True)\n",
      "    (2): ReLU()\n",
      "    (3): MaxPool2d(kernel_size=2, stride=2, padding=0, dilation=1, ceil_mode=False)\n",
      "    (4): Conv2d(64, 128, kernel_size=(3, 3), stride=(1, 1), padding=(1, 1))\n",
      "    (5): BatchNorm2d(128, eps=1e-05, momentum=0.1, affine=True, track_running_stats=True)\n",
      "    (6): ReLU()\n",
      "    (7): MaxPool2d(kernel_size=2, stride=2, padding=0, dilation=1, ceil_mode=False)\n",
      "  )\n",
      "  (linear): Linear(in_features=8192, out_features=10, bias=True)\n",
      ")\n",
      "input.size:  torch.Size([32, 3, 32, 32])\n",
      "output.size:  torch.Size([32, 10])\n",
      "````````````````\n",
      "x.size:  torch.Size([32, 3, 32, 32])\n",
      "y.size:  torch.Size([32])\n",
      "out.size:  torch.Size([32, 10])\n",
      "`````hooker working```````\n",
      "Net(\n",
      "  (feature): Sequential(\n",
      "    (0): Conv2d(3, 64, kernel_size=(3, 3), stride=(1, 1), padding=(1, 1))\n",
      "    (1): BatchNorm2d(64, eps=1e-05, momentum=0.1, affine=True, track_running_stats=True)\n",
      "    (2): ReLU()\n",
      "    (3): MaxPool2d(kernel_size=2, stride=2, padding=0, dilation=1, ceil_mode=False)\n",
      "    (4): Conv2d(64, 128, kernel_size=(3, 3), stride=(1, 1), padding=(1, 1))\n",
      "    (5): BatchNorm2d(128, eps=1e-05, momentum=0.1, affine=True, track_running_stats=True)\n",
      "    (6): ReLU()\n",
      "    (7): MaxPool2d(kernel_size=2, stride=2, padding=0, dilation=1, ceil_mode=False)\n",
      "  )\n",
      "  (linear): Linear(in_features=8192, out_features=10, bias=True)\n",
      ")\n",
      "input.size:  torch.Size([32, 3, 32, 32])\n",
      "output.size:  torch.Size([32, 10])\n",
      "````````````````\n",
      "x.size:  torch.Size([32, 3, 32, 32])\n",
      "y.size:  torch.Size([32])\n",
      "out.size:  torch.Size([32, 10])\n",
      "````````````````\n",
      "x.size:  torch.Size([32, 3, 32, 32])\n",
      "y.size:  torch.Size([32])\n",
      "out.size:  torch.Size([32, 10])\n"
     ]
    }
   ],
   "source": [
    "net = Net()\n",
    "\n",
    "handle = net.register_forward_hook(net.activation_hook)\n",
    "\n",
    "for idx, (x, y) in enumerate(train_data):\n",
    "\n",
    "    out = net(x)\n",
    "\n",
    "    print(\"````````````````\")\n",
    "    print(\"x.size: \", x.size())\n",
    "    print(\"y.size: \", y.size())\n",
    "    print(\"out.size: \", out.size())\n",
    "\n",
    "    if idx == 1:\n",
    "        handle.remove()\n",
    "\n",
    "    if idx == 2:\n",
    "        break"
   ],
   "metadata": {
    "collapsed": false,
    "pycharm": {
     "name": "#%%\n"
    }
   }
  },
  {
   "cell_type": "code",
   "execution_count": 36,
   "outputs": [
    {
     "name": "stdout",
     "output_type": "stream",
     "text": [
      "tensor([8.])\n"
     ]
    }
   ],
   "source": [
    "import torch\n",
    "\n",
    "a = torch.tensor([[[-1.,2.],[2.,3.]]], dtype=torch.float32)\n",
    "a = a.norm(dim=(1, 2), p=1)\n",
    "\n",
    "print(a)\n",
    "\n",
    "a = torch.tensor([5,9,1,2,7,6,10,8])\n",
    "\n",
    "sorted, indices = torch.sort(a)\n",
    "# print(sorted)\n",
    "# print(indices)"
   ],
   "metadata": {
    "collapsed": false,
    "pycharm": {
     "name": "#%%\n"
    }
   }
  },
  {
   "cell_type": "code",
   "execution_count": 18,
   "outputs": [
    {
     "name": "stdout",
     "output_type": "stream",
     "text": [
      "torch.Size([32])\n"
     ]
    }
   ],
   "source": [
    "import torch\n",
    "\n",
    "activation = torch.randn([32, 4, 4])\n",
    "a = activation.norm(dim=(1, 2), p=2)\n",
    "print(a.size())"
   ],
   "metadata": {
    "collapsed": false,
    "pycharm": {
     "name": "#%%\n"
    }
   }
  },
  {
   "cell_type": "code",
   "execution_count": 21,
   "outputs": [
    {
     "name": "stdout",
     "output_type": "stream",
     "text": [
      "torch.Size([8, 32])\n",
      "8\n"
     ]
    }
   ],
   "source": [
    "import torch\n",
    "a = torch.randn([8, 32])\n",
    "\n",
    "print(a.gt(torch.tensor(1)).size())\n",
    "\n",
    "print(len(a))\n"
   ],
   "metadata": {
    "collapsed": false,
    "pycharm": {
     "name": "#%%\n"
    }
   }
  },
  {
   "cell_type": "code",
   "execution_count": null,
   "outputs": [],
   "source": [
    "ij = 0\n",
    "for i in [1,2,3,4,5]:\n",
    "    ij = ij + i"
   ],
   "metadata": {
    "collapsed": false,
    "pycharm": {
     "name": "#%%\n"
    }
   }
  },
  {
   "cell_type": "code",
   "execution_count": 1,
   "outputs": [
    {
     "name": "stderr",
     "output_type": "stream",
     "text": [
      "100%|██████████| 1000000/1000000 [00:00<00:00, 4112881.29it/s]\n"
     ]
    }
   ],
   "source": [
    "import tqdm\n",
    "\n",
    "for i in tqdm.tqdm(range(1000000)):\n",
    "\n",
    "    i += i\n",
    "\n",
    "\n"
   ],
   "metadata": {
    "collapsed": false,
    "pycharm": {
     "name": "#%%\n"
    }
   }
  },
  {
   "cell_type": "code",
   "execution_count": null,
   "outputs": [],
   "source": [],
   "metadata": {
    "collapsed": false,
    "pycharm": {
     "name": "#%%\n"
    }
   }
  }
 ],
 "metadata": {
  "kernelspec": {
   "display_name": "Python 3",
   "language": "python",
   "name": "python3"
  },
  "language_info": {
   "codemirror_mode": {
    "name": "ipython",
    "version": 2
   },
   "file_extension": ".py",
   "mimetype": "text/x-python",
   "name": "python",
   "nbconvert_exporter": "python",
   "pygments_lexer": "ipython2",
   "version": "2.7.6"
  }
 },
 "nbformat": 4,
 "nbformat_minor": 0
}